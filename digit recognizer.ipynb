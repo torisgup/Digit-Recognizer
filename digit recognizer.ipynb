{
 "cells": [
  {
   "cell_type": "code",
   "execution_count": 1,
   "metadata": {
    "_cell_guid": "b1076dfc-b9ad-4769-8c92-a6c4dae69d19",
    "_uuid": "8f2839f25d086af736a60e9eeb907d3b93b6e0e5",
    "execution": {
     "iopub.execute_input": "2022-08-27T17:19:09.604828Z",
     "iopub.status.busy": "2022-08-27T17:19:09.604102Z",
     "iopub.status.idle": "2022-08-27T17:19:09.610204Z",
     "shell.execute_reply": "2022-08-27T17:19:09.609229Z"
    },
    "papermill": {
     "duration": 0.042536,
     "end_time": "2022-08-27T17:19:09.610638",
     "exception": false,
     "start_time": "2022-08-27T17:19:09.568102",
     "status": "completed"
    },
    "tags": []
   },
   "outputs": [
    {
     "name": "stdout",
     "output_type": "stream",
     "text": [
      "/kaggle/input/digit-recognizer/sample_submission.csv\n",
      "/kaggle/input/digit-recognizer/train.csv\n",
      "/kaggle/input/digit-recognizer/test.csv\n"
     ]
    }
   ],
   "source": [
    "# This Python 3 environment comes with many helpful analytics libraries installed\n",
    "# It is defined by the kaggle/python Docker image: https://github.com/kaggle/docker-python\n",
    "# For example, here's several helpful packages to load\n",
    "\n",
    "import numpy as np # linear algebra\n",
    "import pandas as pd # data processing, CSV file I/O (e.g. pd.read_csv)\n",
    "\n",
    "# Input data files are available in the read-only \"../input/\" directory\n",
    "# For example, running this (by clicking run or pressing Shift+Enter) will list all files under the input directory\n",
    "\n",
    "import os\n",
    "for dirname, _, filenames in os.walk('/kaggle/input'):\n",
    "    for filename in filenames:\n",
    "        print(os.path.join(dirname, filename))\n",
    "\n",
    "# You can write up to 5GB to the current directory (/kaggle/working/) that gets preserved as output when you create a version using \"Save & Run All\" \n",
    "# You can also write temporary files to /kaggle/temp/, but they won't be saved outside of the current session"
   ]
  },
  {
   "cell_type": "markdown",
   "metadata": {
    "papermill": {
     "duration": 0.026593,
     "end_time": "2022-08-27T17:19:09.665849",
     "exception": false,
     "start_time": "2022-08-27T17:19:09.639256",
     "status": "completed"
    },
    "tags": []
   },
   "source": [
    "<h1> Importing Libraries </h1>"
   ]
  },
  {
   "cell_type": "code",
   "execution_count": 2,
   "metadata": {
    "_cell_guid": "79c7e3d0-c299-4dcb-8224-4455121ee9b0",
    "_uuid": "d629ff2d2480ee46fbb7e2d37f6b5fab8052498a",
    "execution": {
     "iopub.execute_input": "2022-08-27T17:19:09.724135Z",
     "iopub.status.busy": "2022-08-27T17:19:09.723473Z",
     "iopub.status.idle": "2022-08-27T17:19:16.624263Z",
     "shell.execute_reply": "2022-08-27T17:19:16.623663Z"
    },
    "papermill": {
     "duration": 6.930632,
     "end_time": "2022-08-27T17:19:16.624392",
     "exception": false,
     "start_time": "2022-08-27T17:19:09.693760",
     "status": "completed"
    },
    "tags": []
   },
   "outputs": [
    {
     "name": "stdout",
     "output_type": "stream",
     "text": [
      "Populating the interactive namespace from numpy and matplotlib\n"
     ]
    }
   ],
   "source": [
    "%pylab inline\n",
    " \n",
    "import numpy as np\n",
    "import pandas as pd\n",
    "#from scipy.misc import imread\n",
    "from sklearn.metrics import accuracy_score\n",
    "from matplotlib import pyplot \n",
    "import tensorflow as tf\n",
    "import keras\n",
    "import csv\n",
    "#TO stop potential randomness\n",
    "seed=128\n",
    "rng = np.random.RandomState(seed)"
   ]
  },
  {
   "cell_type": "code",
   "execution_count": 3,
   "metadata": {
    "execution": {
     "iopub.execute_input": "2022-08-27T17:19:16.684228Z",
     "iopub.status.busy": "2022-08-27T17:19:16.683535Z",
     "iopub.status.idle": "2022-08-27T17:19:16.705938Z",
     "shell.execute_reply": "2022-08-27T17:19:16.705338Z"
    },
    "papermill": {
     "duration": 0.052467,
     "end_time": "2022-08-27T17:19:16.706110",
     "exception": false,
     "start_time": "2022-08-27T17:19:16.653643",
     "status": "completed"
    },
    "tags": []
   },
   "outputs": [],
   "source": [
    "from keras.utils.np_utils import to_categorical\n",
    "from keras.models import  Sequential\n",
    "from keras.layers.core import  Lambda , Dense, Flatten, Dropout\n",
    "from keras.callbacks import EarlyStopping\n",
    "from keras.layers import BatchNormalization, Convolution2D , MaxPooling2D\n",
    "from sklearn.model_selection import train_test_split\n",
    "from keras.preprocessing import image"
   ]
  },
  {
   "cell_type": "markdown",
   "metadata": {
    "papermill": {
     "duration": 0.027742,
     "end_time": "2022-08-27T17:19:16.761985",
     "exception": false,
     "start_time": "2022-08-27T17:19:16.734243",
     "status": "completed"
    },
    "tags": []
   },
   "source": [
    "**Uploading datasets for train and test **"
   ]
  },
  {
   "cell_type": "code",
   "execution_count": 4,
   "metadata": {
    "execution": {
     "iopub.execute_input": "2022-08-27T17:19:16.826266Z",
     "iopub.status.busy": "2022-08-27T17:19:16.825546Z",
     "iopub.status.idle": "2022-08-27T17:19:20.427810Z",
     "shell.execute_reply": "2022-08-27T17:19:20.428377Z"
    },
    "papermill": {
     "duration": 3.638618,
     "end_time": "2022-08-27T17:19:20.428566",
     "exception": false,
     "start_time": "2022-08-27T17:19:16.789948",
     "status": "completed"
    },
    "tags": []
   },
   "outputs": [],
   "source": [
    "train = pd.read_csv(r\"/kaggle/input/digit-recognizer/train.csv\",  engine=\"c\")"
   ]
  },
  {
   "cell_type": "code",
   "execution_count": 5,
   "metadata": {
    "execution": {
     "iopub.execute_input": "2022-08-27T17:19:20.488783Z",
     "iopub.status.busy": "2022-08-27T17:19:20.488075Z",
     "iopub.status.idle": "2022-08-27T17:19:20.526261Z",
     "shell.execute_reply": "2022-08-27T17:19:20.525752Z"
    },
    "papermill": {
     "duration": 0.069324,
     "end_time": "2022-08-27T17:19:20.526393",
     "exception": false,
     "start_time": "2022-08-27T17:19:20.457069",
     "status": "completed"
    },
    "tags": []
   },
   "outputs": [
    {
     "data": {
      "text/html": [
       "<div>\n",
       "<style scoped>\n",
       "    .dataframe tbody tr th:only-of-type {\n",
       "        vertical-align: middle;\n",
       "    }\n",
       "\n",
       "    .dataframe tbody tr th {\n",
       "        vertical-align: top;\n",
       "    }\n",
       "\n",
       "    .dataframe thead th {\n",
       "        text-align: right;\n",
       "    }\n",
       "</style>\n",
       "<table border=\"1\" class=\"dataframe\">\n",
       "  <thead>\n",
       "    <tr style=\"text-align: right;\">\n",
       "      <th></th>\n",
       "      <th>label</th>\n",
       "      <th>pixel0</th>\n",
       "      <th>pixel1</th>\n",
       "      <th>pixel2</th>\n",
       "      <th>pixel3</th>\n",
       "      <th>pixel4</th>\n",
       "      <th>pixel5</th>\n",
       "      <th>pixel6</th>\n",
       "      <th>pixel7</th>\n",
       "      <th>pixel8</th>\n",
       "      <th>...</th>\n",
       "      <th>pixel774</th>\n",
       "      <th>pixel775</th>\n",
       "      <th>pixel776</th>\n",
       "      <th>pixel777</th>\n",
       "      <th>pixel778</th>\n",
       "      <th>pixel779</th>\n",
       "      <th>pixel780</th>\n",
       "      <th>pixel781</th>\n",
       "      <th>pixel782</th>\n",
       "      <th>pixel783</th>\n",
       "    </tr>\n",
       "  </thead>\n",
       "  <tbody>\n",
       "    <tr>\n",
       "      <th>0</th>\n",
       "      <td>1</td>\n",
       "      <td>0</td>\n",
       "      <td>0</td>\n",
       "      <td>0</td>\n",
       "      <td>0</td>\n",
       "      <td>0</td>\n",
       "      <td>0</td>\n",
       "      <td>0</td>\n",
       "      <td>0</td>\n",
       "      <td>0</td>\n",
       "      <td>...</td>\n",
       "      <td>0</td>\n",
       "      <td>0</td>\n",
       "      <td>0</td>\n",
       "      <td>0</td>\n",
       "      <td>0</td>\n",
       "      <td>0</td>\n",
       "      <td>0</td>\n",
       "      <td>0</td>\n",
       "      <td>0</td>\n",
       "      <td>0</td>\n",
       "    </tr>\n",
       "    <tr>\n",
       "      <th>1</th>\n",
       "      <td>0</td>\n",
       "      <td>0</td>\n",
       "      <td>0</td>\n",
       "      <td>0</td>\n",
       "      <td>0</td>\n",
       "      <td>0</td>\n",
       "      <td>0</td>\n",
       "      <td>0</td>\n",
       "      <td>0</td>\n",
       "      <td>0</td>\n",
       "      <td>...</td>\n",
       "      <td>0</td>\n",
       "      <td>0</td>\n",
       "      <td>0</td>\n",
       "      <td>0</td>\n",
       "      <td>0</td>\n",
       "      <td>0</td>\n",
       "      <td>0</td>\n",
       "      <td>0</td>\n",
       "      <td>0</td>\n",
       "      <td>0</td>\n",
       "    </tr>\n",
       "    <tr>\n",
       "      <th>2</th>\n",
       "      <td>1</td>\n",
       "      <td>0</td>\n",
       "      <td>0</td>\n",
       "      <td>0</td>\n",
       "      <td>0</td>\n",
       "      <td>0</td>\n",
       "      <td>0</td>\n",
       "      <td>0</td>\n",
       "      <td>0</td>\n",
       "      <td>0</td>\n",
       "      <td>...</td>\n",
       "      <td>0</td>\n",
       "      <td>0</td>\n",
       "      <td>0</td>\n",
       "      <td>0</td>\n",
       "      <td>0</td>\n",
       "      <td>0</td>\n",
       "      <td>0</td>\n",
       "      <td>0</td>\n",
       "      <td>0</td>\n",
       "      <td>0</td>\n",
       "    </tr>\n",
       "    <tr>\n",
       "      <th>3</th>\n",
       "      <td>4</td>\n",
       "      <td>0</td>\n",
       "      <td>0</td>\n",
       "      <td>0</td>\n",
       "      <td>0</td>\n",
       "      <td>0</td>\n",
       "      <td>0</td>\n",
       "      <td>0</td>\n",
       "      <td>0</td>\n",
       "      <td>0</td>\n",
       "      <td>...</td>\n",
       "      <td>0</td>\n",
       "      <td>0</td>\n",
       "      <td>0</td>\n",
       "      <td>0</td>\n",
       "      <td>0</td>\n",
       "      <td>0</td>\n",
       "      <td>0</td>\n",
       "      <td>0</td>\n",
       "      <td>0</td>\n",
       "      <td>0</td>\n",
       "    </tr>\n",
       "    <tr>\n",
       "      <th>4</th>\n",
       "      <td>0</td>\n",
       "      <td>0</td>\n",
       "      <td>0</td>\n",
       "      <td>0</td>\n",
       "      <td>0</td>\n",
       "      <td>0</td>\n",
       "      <td>0</td>\n",
       "      <td>0</td>\n",
       "      <td>0</td>\n",
       "      <td>0</td>\n",
       "      <td>...</td>\n",
       "      <td>0</td>\n",
       "      <td>0</td>\n",
       "      <td>0</td>\n",
       "      <td>0</td>\n",
       "      <td>0</td>\n",
       "      <td>0</td>\n",
       "      <td>0</td>\n",
       "      <td>0</td>\n",
       "      <td>0</td>\n",
       "      <td>0</td>\n",
       "    </tr>\n",
       "    <tr>\n",
       "      <th>...</th>\n",
       "      <td>...</td>\n",
       "      <td>...</td>\n",
       "      <td>...</td>\n",
       "      <td>...</td>\n",
       "      <td>...</td>\n",
       "      <td>...</td>\n",
       "      <td>...</td>\n",
       "      <td>...</td>\n",
       "      <td>...</td>\n",
       "      <td>...</td>\n",
       "      <td>...</td>\n",
       "      <td>...</td>\n",
       "      <td>...</td>\n",
       "      <td>...</td>\n",
       "      <td>...</td>\n",
       "      <td>...</td>\n",
       "      <td>...</td>\n",
       "      <td>...</td>\n",
       "      <td>...</td>\n",
       "      <td>...</td>\n",
       "      <td>...</td>\n",
       "    </tr>\n",
       "    <tr>\n",
       "      <th>41995</th>\n",
       "      <td>0</td>\n",
       "      <td>0</td>\n",
       "      <td>0</td>\n",
       "      <td>0</td>\n",
       "      <td>0</td>\n",
       "      <td>0</td>\n",
       "      <td>0</td>\n",
       "      <td>0</td>\n",
       "      <td>0</td>\n",
       "      <td>0</td>\n",
       "      <td>...</td>\n",
       "      <td>0</td>\n",
       "      <td>0</td>\n",
       "      <td>0</td>\n",
       "      <td>0</td>\n",
       "      <td>0</td>\n",
       "      <td>0</td>\n",
       "      <td>0</td>\n",
       "      <td>0</td>\n",
       "      <td>0</td>\n",
       "      <td>0</td>\n",
       "    </tr>\n",
       "    <tr>\n",
       "      <th>41996</th>\n",
       "      <td>1</td>\n",
       "      <td>0</td>\n",
       "      <td>0</td>\n",
       "      <td>0</td>\n",
       "      <td>0</td>\n",
       "      <td>0</td>\n",
       "      <td>0</td>\n",
       "      <td>0</td>\n",
       "      <td>0</td>\n",
       "      <td>0</td>\n",
       "      <td>...</td>\n",
       "      <td>0</td>\n",
       "      <td>0</td>\n",
       "      <td>0</td>\n",
       "      <td>0</td>\n",
       "      <td>0</td>\n",
       "      <td>0</td>\n",
       "      <td>0</td>\n",
       "      <td>0</td>\n",
       "      <td>0</td>\n",
       "      <td>0</td>\n",
       "    </tr>\n",
       "    <tr>\n",
       "      <th>41997</th>\n",
       "      <td>7</td>\n",
       "      <td>0</td>\n",
       "      <td>0</td>\n",
       "      <td>0</td>\n",
       "      <td>0</td>\n",
       "      <td>0</td>\n",
       "      <td>0</td>\n",
       "      <td>0</td>\n",
       "      <td>0</td>\n",
       "      <td>0</td>\n",
       "      <td>...</td>\n",
       "      <td>0</td>\n",
       "      <td>0</td>\n",
       "      <td>0</td>\n",
       "      <td>0</td>\n",
       "      <td>0</td>\n",
       "      <td>0</td>\n",
       "      <td>0</td>\n",
       "      <td>0</td>\n",
       "      <td>0</td>\n",
       "      <td>0</td>\n",
       "    </tr>\n",
       "    <tr>\n",
       "      <th>41998</th>\n",
       "      <td>6</td>\n",
       "      <td>0</td>\n",
       "      <td>0</td>\n",
       "      <td>0</td>\n",
       "      <td>0</td>\n",
       "      <td>0</td>\n",
       "      <td>0</td>\n",
       "      <td>0</td>\n",
       "      <td>0</td>\n",
       "      <td>0</td>\n",
       "      <td>...</td>\n",
       "      <td>0</td>\n",
       "      <td>0</td>\n",
       "      <td>0</td>\n",
       "      <td>0</td>\n",
       "      <td>0</td>\n",
       "      <td>0</td>\n",
       "      <td>0</td>\n",
       "      <td>0</td>\n",
       "      <td>0</td>\n",
       "      <td>0</td>\n",
       "    </tr>\n",
       "    <tr>\n",
       "      <th>41999</th>\n",
       "      <td>9</td>\n",
       "      <td>0</td>\n",
       "      <td>0</td>\n",
       "      <td>0</td>\n",
       "      <td>0</td>\n",
       "      <td>0</td>\n",
       "      <td>0</td>\n",
       "      <td>0</td>\n",
       "      <td>0</td>\n",
       "      <td>0</td>\n",
       "      <td>...</td>\n",
       "      <td>0</td>\n",
       "      <td>0</td>\n",
       "      <td>0</td>\n",
       "      <td>0</td>\n",
       "      <td>0</td>\n",
       "      <td>0</td>\n",
       "      <td>0</td>\n",
       "      <td>0</td>\n",
       "      <td>0</td>\n",
       "      <td>0</td>\n",
       "    </tr>\n",
       "  </tbody>\n",
       "</table>\n",
       "<p>42000 rows × 785 columns</p>\n",
       "</div>"
      ],
      "text/plain": [
       "       label  pixel0  pixel1  pixel2  pixel3  pixel4  pixel5  pixel6  pixel7  \\\n",
       "0          1       0       0       0       0       0       0       0       0   \n",
       "1          0       0       0       0       0       0       0       0       0   \n",
       "2          1       0       0       0       0       0       0       0       0   \n",
       "3          4       0       0       0       0       0       0       0       0   \n",
       "4          0       0       0       0       0       0       0       0       0   \n",
       "...      ...     ...     ...     ...     ...     ...     ...     ...     ...   \n",
       "41995      0       0       0       0       0       0       0       0       0   \n",
       "41996      1       0       0       0       0       0       0       0       0   \n",
       "41997      7       0       0       0       0       0       0       0       0   \n",
       "41998      6       0       0       0       0       0       0       0       0   \n",
       "41999      9       0       0       0       0       0       0       0       0   \n",
       "\n",
       "       pixel8  ...  pixel774  pixel775  pixel776  pixel777  pixel778  \\\n",
       "0           0  ...         0         0         0         0         0   \n",
       "1           0  ...         0         0         0         0         0   \n",
       "2           0  ...         0         0         0         0         0   \n",
       "3           0  ...         0         0         0         0         0   \n",
       "4           0  ...         0         0         0         0         0   \n",
       "...       ...  ...       ...       ...       ...       ...       ...   \n",
       "41995       0  ...         0         0         0         0         0   \n",
       "41996       0  ...         0         0         0         0         0   \n",
       "41997       0  ...         0         0         0         0         0   \n",
       "41998       0  ...         0         0         0         0         0   \n",
       "41999       0  ...         0         0         0         0         0   \n",
       "\n",
       "       pixel779  pixel780  pixel781  pixel782  pixel783  \n",
       "0             0         0         0         0         0  \n",
       "1             0         0         0         0         0  \n",
       "2             0         0         0         0         0  \n",
       "3             0         0         0         0         0  \n",
       "4             0         0         0         0         0  \n",
       "...         ...       ...       ...       ...       ...  \n",
       "41995         0         0         0         0         0  \n",
       "41996         0         0         0         0         0  \n",
       "41997         0         0         0         0         0  \n",
       "41998         0         0         0         0         0  \n",
       "41999         0         0         0         0         0  \n",
       "\n",
       "[42000 rows x 785 columns]"
      ]
     },
     "execution_count": 5,
     "metadata": {},
     "output_type": "execute_result"
    }
   ],
   "source": [
    "train"
   ]
  },
  {
   "cell_type": "code",
   "execution_count": 6,
   "metadata": {
    "execution": {
     "iopub.execute_input": "2022-08-27T17:19:20.589444Z",
     "iopub.status.busy": "2022-08-27T17:19:20.588706Z",
     "iopub.status.idle": "2022-08-27T17:19:20.595670Z",
     "shell.execute_reply": "2022-08-27T17:19:20.595037Z"
    },
    "papermill": {
     "duration": 0.040178,
     "end_time": "2022-08-27T17:19:20.595804",
     "exception": false,
     "start_time": "2022-08-27T17:19:20.555626",
     "status": "completed"
    },
    "tags": []
   },
   "outputs": [
    {
     "data": {
      "text/plain": [
       "array([  0, 240, 227, 200, 239,  20,   6, 253, 252, 131,  29, 207,  45,\n",
       "        12,  39, 254, 255,  41, 215,   4,  11, 204,  80, 245,  28, 187,\n",
       "       251, 138,  79, 246,   7, 228, 248, 141,   8, 203, 218, 243,  31,\n",
       "       236,  38,  53, 219,  19, 237,  57, 117, 128, 224, 221, 225, 152,\n",
       "       106, 205,  68,  72,   2,  96, 216, 210, 133,  92, 100,  23,  94,\n",
       "       119, 146, 229,  36, 147,  64, 209, 170, 213,  14, 217, 143, 250,\n",
       "        47, 182, 198, 102, 158,  69,  81, 244,  48,  43, 154, 126, 107,\n",
       "       242,  13,  30, 222, 231, 197,  84,  59, 122, 181, 241,  60, 176,\n",
       "       191, 249, 129,  97,  85, 123, 161, 155,  71, 206, 235,  24, 156,\n",
       "       232,  32,  15,  54, 125,  88, 190,  66, 201, 120, 134, 233,  44,\n",
       "        26,  10, 118, 116, 211,   1, 196,  82, 175, 150, 220, 109, 166,\n",
       "       115, 162,  67, 226,  93,  86, 145,  78, 164,  70, 148, 163,   5,\n",
       "       186, 113, 127, 111, 168,  87, 171, 121,   9,  16, 144, 142, 160,\n",
       "        50, 124,  74,  62, 194,  22, 223, 157, 195,  40,  21, 112, 208,\n",
       "       234,  42, 151,  25, 188, 193,  89, 212, 177, 137,  27,  34,  99,\n",
       "       167,  35,   3,  63, 110, 185, 174, 183, 105,  37, 184,  76, 153,\n",
       "       169,  65, 178,  91,  33, 230, 192, 140, 202, 136,  49, 247, 214,\n",
       "       165, 114,  52, 180,  55,  17,  61, 130, 172, 135, 199,  95,  77,\n",
       "       108,  73,  58,  83, 179, 132,  75, 149,  98, 159,  51,  46, 189,\n",
       "        90, 238, 139, 104,  56,  18, 173, 103, 101])"
      ]
     },
     "execution_count": 6,
     "metadata": {},
     "output_type": "execute_result"
    }
   ],
   "source": [
    "train.pixel355.unique()"
   ]
  },
  {
   "cell_type": "code",
   "execution_count": 7,
   "metadata": {
    "execution": {
     "iopub.execute_input": "2022-08-27T17:19:20.663580Z",
     "iopub.status.busy": "2022-08-27T17:19:20.662842Z",
     "iopub.status.idle": "2022-08-27T17:19:22.683254Z",
     "shell.execute_reply": "2022-08-27T17:19:22.682652Z"
    },
    "papermill": {
     "duration": 2.057821,
     "end_time": "2022-08-27T17:19:22.683382",
     "exception": false,
     "start_time": "2022-08-27T17:19:20.625561",
     "status": "completed"
    },
    "tags": []
   },
   "outputs": [],
   "source": [
    "test = pd.read_csv(r\"/kaggle/input/digit-recognizer/test.csv\",  engine='c')"
   ]
  },
  {
   "cell_type": "code",
   "execution_count": 8,
   "metadata": {
    "execution": {
     "iopub.execute_input": "2022-08-27T17:19:22.747907Z",
     "iopub.status.busy": "2022-08-27T17:19:22.747186Z",
     "iopub.status.idle": "2022-08-27T17:19:22.768713Z",
     "shell.execute_reply": "2022-08-27T17:19:22.768124Z"
    },
    "papermill": {
     "duration": 0.056059,
     "end_time": "2022-08-27T17:19:22.768833",
     "exception": false,
     "start_time": "2022-08-27T17:19:22.712774",
     "status": "completed"
    },
    "tags": []
   },
   "outputs": [
    {
     "data": {
      "text/html": [
       "<div>\n",
       "<style scoped>\n",
       "    .dataframe tbody tr th:only-of-type {\n",
       "        vertical-align: middle;\n",
       "    }\n",
       "\n",
       "    .dataframe tbody tr th {\n",
       "        vertical-align: top;\n",
       "    }\n",
       "\n",
       "    .dataframe thead th {\n",
       "        text-align: right;\n",
       "    }\n",
       "</style>\n",
       "<table border=\"1\" class=\"dataframe\">\n",
       "  <thead>\n",
       "    <tr style=\"text-align: right;\">\n",
       "      <th></th>\n",
       "      <th>pixel0</th>\n",
       "      <th>pixel1</th>\n",
       "      <th>pixel2</th>\n",
       "      <th>pixel3</th>\n",
       "      <th>pixel4</th>\n",
       "      <th>pixel5</th>\n",
       "      <th>pixel6</th>\n",
       "      <th>pixel7</th>\n",
       "      <th>pixel8</th>\n",
       "      <th>pixel9</th>\n",
       "      <th>...</th>\n",
       "      <th>pixel774</th>\n",
       "      <th>pixel775</th>\n",
       "      <th>pixel776</th>\n",
       "      <th>pixel777</th>\n",
       "      <th>pixel778</th>\n",
       "      <th>pixel779</th>\n",
       "      <th>pixel780</th>\n",
       "      <th>pixel781</th>\n",
       "      <th>pixel782</th>\n",
       "      <th>pixel783</th>\n",
       "    </tr>\n",
       "  </thead>\n",
       "  <tbody>\n",
       "    <tr>\n",
       "      <th>0</th>\n",
       "      <td>0</td>\n",
       "      <td>0</td>\n",
       "      <td>0</td>\n",
       "      <td>0</td>\n",
       "      <td>0</td>\n",
       "      <td>0</td>\n",
       "      <td>0</td>\n",
       "      <td>0</td>\n",
       "      <td>0</td>\n",
       "      <td>0</td>\n",
       "      <td>...</td>\n",
       "      <td>0</td>\n",
       "      <td>0</td>\n",
       "      <td>0</td>\n",
       "      <td>0</td>\n",
       "      <td>0</td>\n",
       "      <td>0</td>\n",
       "      <td>0</td>\n",
       "      <td>0</td>\n",
       "      <td>0</td>\n",
       "      <td>0</td>\n",
       "    </tr>\n",
       "    <tr>\n",
       "      <th>1</th>\n",
       "      <td>0</td>\n",
       "      <td>0</td>\n",
       "      <td>0</td>\n",
       "      <td>0</td>\n",
       "      <td>0</td>\n",
       "      <td>0</td>\n",
       "      <td>0</td>\n",
       "      <td>0</td>\n",
       "      <td>0</td>\n",
       "      <td>0</td>\n",
       "      <td>...</td>\n",
       "      <td>0</td>\n",
       "      <td>0</td>\n",
       "      <td>0</td>\n",
       "      <td>0</td>\n",
       "      <td>0</td>\n",
       "      <td>0</td>\n",
       "      <td>0</td>\n",
       "      <td>0</td>\n",
       "      <td>0</td>\n",
       "      <td>0</td>\n",
       "    </tr>\n",
       "    <tr>\n",
       "      <th>2</th>\n",
       "      <td>0</td>\n",
       "      <td>0</td>\n",
       "      <td>0</td>\n",
       "      <td>0</td>\n",
       "      <td>0</td>\n",
       "      <td>0</td>\n",
       "      <td>0</td>\n",
       "      <td>0</td>\n",
       "      <td>0</td>\n",
       "      <td>0</td>\n",
       "      <td>...</td>\n",
       "      <td>0</td>\n",
       "      <td>0</td>\n",
       "      <td>0</td>\n",
       "      <td>0</td>\n",
       "      <td>0</td>\n",
       "      <td>0</td>\n",
       "      <td>0</td>\n",
       "      <td>0</td>\n",
       "      <td>0</td>\n",
       "      <td>0</td>\n",
       "    </tr>\n",
       "    <tr>\n",
       "      <th>3</th>\n",
       "      <td>0</td>\n",
       "      <td>0</td>\n",
       "      <td>0</td>\n",
       "      <td>0</td>\n",
       "      <td>0</td>\n",
       "      <td>0</td>\n",
       "      <td>0</td>\n",
       "      <td>0</td>\n",
       "      <td>0</td>\n",
       "      <td>0</td>\n",
       "      <td>...</td>\n",
       "      <td>0</td>\n",
       "      <td>0</td>\n",
       "      <td>0</td>\n",
       "      <td>0</td>\n",
       "      <td>0</td>\n",
       "      <td>0</td>\n",
       "      <td>0</td>\n",
       "      <td>0</td>\n",
       "      <td>0</td>\n",
       "      <td>0</td>\n",
       "    </tr>\n",
       "    <tr>\n",
       "      <th>4</th>\n",
       "      <td>0</td>\n",
       "      <td>0</td>\n",
       "      <td>0</td>\n",
       "      <td>0</td>\n",
       "      <td>0</td>\n",
       "      <td>0</td>\n",
       "      <td>0</td>\n",
       "      <td>0</td>\n",
       "      <td>0</td>\n",
       "      <td>0</td>\n",
       "      <td>...</td>\n",
       "      <td>0</td>\n",
       "      <td>0</td>\n",
       "      <td>0</td>\n",
       "      <td>0</td>\n",
       "      <td>0</td>\n",
       "      <td>0</td>\n",
       "      <td>0</td>\n",
       "      <td>0</td>\n",
       "      <td>0</td>\n",
       "      <td>0</td>\n",
       "    </tr>\n",
       "    <tr>\n",
       "      <th>...</th>\n",
       "      <td>...</td>\n",
       "      <td>...</td>\n",
       "      <td>...</td>\n",
       "      <td>...</td>\n",
       "      <td>...</td>\n",
       "      <td>...</td>\n",
       "      <td>...</td>\n",
       "      <td>...</td>\n",
       "      <td>...</td>\n",
       "      <td>...</td>\n",
       "      <td>...</td>\n",
       "      <td>...</td>\n",
       "      <td>...</td>\n",
       "      <td>...</td>\n",
       "      <td>...</td>\n",
       "      <td>...</td>\n",
       "      <td>...</td>\n",
       "      <td>...</td>\n",
       "      <td>...</td>\n",
       "      <td>...</td>\n",
       "      <td>...</td>\n",
       "    </tr>\n",
       "    <tr>\n",
       "      <th>27995</th>\n",
       "      <td>0</td>\n",
       "      <td>0</td>\n",
       "      <td>0</td>\n",
       "      <td>0</td>\n",
       "      <td>0</td>\n",
       "      <td>0</td>\n",
       "      <td>0</td>\n",
       "      <td>0</td>\n",
       "      <td>0</td>\n",
       "      <td>0</td>\n",
       "      <td>...</td>\n",
       "      <td>0</td>\n",
       "      <td>0</td>\n",
       "      <td>0</td>\n",
       "      <td>0</td>\n",
       "      <td>0</td>\n",
       "      <td>0</td>\n",
       "      <td>0</td>\n",
       "      <td>0</td>\n",
       "      <td>0</td>\n",
       "      <td>0</td>\n",
       "    </tr>\n",
       "    <tr>\n",
       "      <th>27996</th>\n",
       "      <td>0</td>\n",
       "      <td>0</td>\n",
       "      <td>0</td>\n",
       "      <td>0</td>\n",
       "      <td>0</td>\n",
       "      <td>0</td>\n",
       "      <td>0</td>\n",
       "      <td>0</td>\n",
       "      <td>0</td>\n",
       "      <td>0</td>\n",
       "      <td>...</td>\n",
       "      <td>0</td>\n",
       "      <td>0</td>\n",
       "      <td>0</td>\n",
       "      <td>0</td>\n",
       "      <td>0</td>\n",
       "      <td>0</td>\n",
       "      <td>0</td>\n",
       "      <td>0</td>\n",
       "      <td>0</td>\n",
       "      <td>0</td>\n",
       "    </tr>\n",
       "    <tr>\n",
       "      <th>27997</th>\n",
       "      <td>0</td>\n",
       "      <td>0</td>\n",
       "      <td>0</td>\n",
       "      <td>0</td>\n",
       "      <td>0</td>\n",
       "      <td>0</td>\n",
       "      <td>0</td>\n",
       "      <td>0</td>\n",
       "      <td>0</td>\n",
       "      <td>0</td>\n",
       "      <td>...</td>\n",
       "      <td>0</td>\n",
       "      <td>0</td>\n",
       "      <td>0</td>\n",
       "      <td>0</td>\n",
       "      <td>0</td>\n",
       "      <td>0</td>\n",
       "      <td>0</td>\n",
       "      <td>0</td>\n",
       "      <td>0</td>\n",
       "      <td>0</td>\n",
       "    </tr>\n",
       "    <tr>\n",
       "      <th>27998</th>\n",
       "      <td>0</td>\n",
       "      <td>0</td>\n",
       "      <td>0</td>\n",
       "      <td>0</td>\n",
       "      <td>0</td>\n",
       "      <td>0</td>\n",
       "      <td>0</td>\n",
       "      <td>0</td>\n",
       "      <td>0</td>\n",
       "      <td>0</td>\n",
       "      <td>...</td>\n",
       "      <td>0</td>\n",
       "      <td>0</td>\n",
       "      <td>0</td>\n",
       "      <td>0</td>\n",
       "      <td>0</td>\n",
       "      <td>0</td>\n",
       "      <td>0</td>\n",
       "      <td>0</td>\n",
       "      <td>0</td>\n",
       "      <td>0</td>\n",
       "    </tr>\n",
       "    <tr>\n",
       "      <th>27999</th>\n",
       "      <td>0</td>\n",
       "      <td>0</td>\n",
       "      <td>0</td>\n",
       "      <td>0</td>\n",
       "      <td>0</td>\n",
       "      <td>0</td>\n",
       "      <td>0</td>\n",
       "      <td>0</td>\n",
       "      <td>0</td>\n",
       "      <td>0</td>\n",
       "      <td>...</td>\n",
       "      <td>0</td>\n",
       "      <td>0</td>\n",
       "      <td>0</td>\n",
       "      <td>0</td>\n",
       "      <td>0</td>\n",
       "      <td>0</td>\n",
       "      <td>0</td>\n",
       "      <td>0</td>\n",
       "      <td>0</td>\n",
       "      <td>0</td>\n",
       "    </tr>\n",
       "  </tbody>\n",
       "</table>\n",
       "<p>28000 rows × 784 columns</p>\n",
       "</div>"
      ],
      "text/plain": [
       "       pixel0  pixel1  pixel2  pixel3  pixel4  pixel5  pixel6  pixel7  pixel8  \\\n",
       "0           0       0       0       0       0       0       0       0       0   \n",
       "1           0       0       0       0       0       0       0       0       0   \n",
       "2           0       0       0       0       0       0       0       0       0   \n",
       "3           0       0       0       0       0       0       0       0       0   \n",
       "4           0       0       0       0       0       0       0       0       0   \n",
       "...       ...     ...     ...     ...     ...     ...     ...     ...     ...   \n",
       "27995       0       0       0       0       0       0       0       0       0   \n",
       "27996       0       0       0       0       0       0       0       0       0   \n",
       "27997       0       0       0       0       0       0       0       0       0   \n",
       "27998       0       0       0       0       0       0       0       0       0   \n",
       "27999       0       0       0       0       0       0       0       0       0   \n",
       "\n",
       "       pixel9  ...  pixel774  pixel775  pixel776  pixel777  pixel778  \\\n",
       "0           0  ...         0         0         0         0         0   \n",
       "1           0  ...         0         0         0         0         0   \n",
       "2           0  ...         0         0         0         0         0   \n",
       "3           0  ...         0         0         0         0         0   \n",
       "4           0  ...         0         0         0         0         0   \n",
       "...       ...  ...       ...       ...       ...       ...       ...   \n",
       "27995       0  ...         0         0         0         0         0   \n",
       "27996       0  ...         0         0         0         0         0   \n",
       "27997       0  ...         0         0         0         0         0   \n",
       "27998       0  ...         0         0         0         0         0   \n",
       "27999       0  ...         0         0         0         0         0   \n",
       "\n",
       "       pixel779  pixel780  pixel781  pixel782  pixel783  \n",
       "0             0         0         0         0         0  \n",
       "1             0         0         0         0         0  \n",
       "2             0         0         0         0         0  \n",
       "3             0         0         0         0         0  \n",
       "4             0         0         0         0         0  \n",
       "...         ...       ...       ...       ...       ...  \n",
       "27995         0         0         0         0         0  \n",
       "27996         0         0         0         0         0  \n",
       "27997         0         0         0         0         0  \n",
       "27998         0         0         0         0         0  \n",
       "27999         0         0         0         0         0  \n",
       "\n",
       "[28000 rows x 784 columns]"
      ]
     },
     "execution_count": 8,
     "metadata": {},
     "output_type": "execute_result"
    }
   ],
   "source": [
    "test"
   ]
  },
  {
   "cell_type": "markdown",
   "metadata": {
    "papermill": {
     "duration": 0.030173,
     "end_time": "2022-08-27T17:19:22.831867",
     "exception": false,
     "start_time": "2022-08-27T17:19:22.801694",
     "status": "completed"
    },
    "tags": []
   },
   "source": [
    "# Cleanising dataset !"
   ]
  },
  {
   "cell_type": "markdown",
   "metadata": {
    "papermill": {
     "duration": 0.030383,
     "end_time": "2022-08-27T17:19:22.892158",
     "exception": false,
     "start_time": "2022-08-27T17:19:22.861775",
     "status": "completed"
    },
    "tags": []
   },
   "source": [
    "**Droping the rows which has null value in any column**"
   ]
  },
  {
   "cell_type": "code",
   "execution_count": 9,
   "metadata": {
    "execution": {
     "iopub.execute_input": "2022-08-27T17:19:22.959747Z",
     "iopub.status.busy": "2022-08-27T17:19:22.958976Z",
     "iopub.status.idle": "2022-08-27T17:19:23.249642Z",
     "shell.execute_reply": "2022-08-27T17:19:23.248014Z"
    },
    "papermill": {
     "duration": 0.326245,
     "end_time": "2022-08-27T17:19:23.249784",
     "exception": false,
     "start_time": "2022-08-27T17:19:22.923539",
     "status": "completed"
    },
    "tags": []
   },
   "outputs": [],
   "source": [
    "test = test.dropna()\n",
    "train = train.dropna()"
   ]
  },
  {
   "cell_type": "code",
   "execution_count": 10,
   "metadata": {
    "execution": {
     "iopub.execute_input": "2022-08-27T17:19:23.317226Z",
     "iopub.status.busy": "2022-08-27T17:19:23.316019Z",
     "iopub.status.idle": "2022-08-27T17:19:23.444258Z",
     "shell.execute_reply": "2022-08-27T17:19:23.443621Z"
    },
    "papermill": {
     "duration": 0.164587,
     "end_time": "2022-08-27T17:19:23.444390",
     "exception": false,
     "start_time": "2022-08-27T17:19:23.279803",
     "status": "completed"
    },
    "tags": []
   },
   "outputs": [],
   "source": [
    "trainX = (train.iloc[:,1:].values).astype('float32') \n",
    "trainY = train.iloc[:,0].values.astype('int32') \n",
    "testX = (test.values).astype('float32')\n",
    "#y_test = (test.iloc[:,0].values).astype('int32')"
   ]
  },
  {
   "cell_type": "code",
   "execution_count": null,
   "metadata": {
    "papermill": {
     "duration": 0.033288,
     "end_time": "2022-08-27T17:19:23.507773",
     "exception": false,
     "start_time": "2022-08-27T17:19:23.474485",
     "status": "completed"
    },
    "tags": []
   },
   "outputs": [],
   "source": []
  },
  {
   "cell_type": "markdown",
   "metadata": {
    "papermill": {
     "duration": 0.030736,
     "end_time": "2022-08-27T17:19:23.570420",
     "exception": false,
     "start_time": "2022-08-27T17:19:23.539684",
     "status": "completed"
    },
    "tags": []
   },
   "source": [
    "**Reshaping it because we need to train our image. We can also pass Flatten input but it may miss the important data at the edges**"
   ]
  },
  {
   "cell_type": "code",
   "execution_count": 11,
   "metadata": {
    "execution": {
     "iopub.execute_input": "2022-08-27T17:19:23.637069Z",
     "iopub.status.busy": "2022-08-27T17:19:23.636162Z",
     "iopub.status.idle": "2022-08-27T17:19:23.640016Z",
     "shell.execute_reply": "2022-08-27T17:19:23.640472Z"
    },
    "papermill": {
     "duration": 0.040163,
     "end_time": "2022-08-27T17:19:23.640658",
     "exception": false,
     "start_time": "2022-08-27T17:19:23.600495",
     "status": "completed"
    },
    "tags": []
   },
   "outputs": [
    {
     "data": {
      "text/plain": [
       "(42000, 28, 28, 1)"
      ]
     },
     "execution_count": 11,
     "metadata": {},
     "output_type": "execute_result"
    }
   ],
   "source": [
    "trainX = trainX.reshape(trainX.shape[0], 28, 28,1)\n",
    "trainX.shape"
   ]
  },
  {
   "cell_type": "code",
   "execution_count": 12,
   "metadata": {
    "execution": {
     "iopub.execute_input": "2022-08-27T17:19:23.709937Z",
     "iopub.status.busy": "2022-08-27T17:19:23.708999Z",
     "iopub.status.idle": "2022-08-27T17:19:23.714793Z",
     "shell.execute_reply": "2022-08-27T17:19:23.714050Z"
    },
    "papermill": {
     "duration": 0.043506,
     "end_time": "2022-08-27T17:19:23.714936",
     "exception": false,
     "start_time": "2022-08-27T17:19:23.671430",
     "status": "completed"
    },
    "tags": []
   },
   "outputs": [
    {
     "data": {
      "text/plain": [
       "(28000, 28, 28, 1)"
      ]
     },
     "execution_count": 12,
     "metadata": {},
     "output_type": "execute_result"
    }
   ],
   "source": [
    "testX = testX.reshape(testX.shape[0], 28, 28,1)\n",
    "testX.shape"
   ]
  },
  {
   "cell_type": "markdown",
   "metadata": {
    "papermill": {
     "duration": 0.031018,
     "end_time": "2022-08-27T17:19:23.777411",
     "exception": false,
     "start_time": "2022-08-27T17:19:23.746393",
     "status": "completed"
    },
    "tags": []
   },
   "source": [
    "# One hot Encoding"
   ]
  },
  {
   "cell_type": "markdown",
   "metadata": {
    "papermill": {
     "duration": 0.030948,
     "end_time": "2022-08-27T17:19:23.839920",
     "exception": false,
     "start_time": "2022-08-27T17:19:23.808972",
     "status": "completed"
    },
    "tags": []
   },
   "source": [
    "As the target labels contain 10 different values . So to access each of them its better to make a separate column for them"
   ]
  },
  {
   "cell_type": "code",
   "execution_count": 13,
   "metadata": {
    "execution": {
     "iopub.execute_input": "2022-08-27T17:19:23.907568Z",
     "iopub.status.busy": "2022-08-27T17:19:23.906865Z",
     "iopub.status.idle": "2022-08-27T17:19:23.911013Z",
     "shell.execute_reply": "2022-08-27T17:19:23.910384Z"
    },
    "papermill": {
     "duration": 0.039514,
     "end_time": "2022-08-27T17:19:23.911138",
     "exception": false,
     "start_time": "2022-08-27T17:19:23.871624",
     "status": "completed"
    },
    "tags": []
   },
   "outputs": [],
   "source": [
    "trainY=to_categorical(trainY,num_classes = 10)"
   ]
  },
  {
   "cell_type": "markdown",
   "metadata": {
    "papermill": {
     "duration": 0.030808,
     "end_time": "2022-08-27T17:19:23.973577",
     "exception": false,
     "start_time": "2022-08-27T17:19:23.942769",
     "status": "completed"
    },
    "tags": []
   },
   "source": [
    "# Normalisation"
   ]
  },
  {
   "cell_type": "markdown",
   "metadata": {
    "papermill": {
     "duration": 0.03167,
     "end_time": "2022-08-27T17:19:24.036334",
     "exception": false,
     "start_time": "2022-08-27T17:19:24.004664",
     "status": "completed"
    },
    "tags": []
   },
   "source": [
    "As the pixel value contains from 0 - 255 . So,we need to normalise it between -0.1 to 1.175."
   ]
  },
  {
   "cell_type": "code",
   "execution_count": 14,
   "metadata": {
    "execution": {
     "iopub.execute_input": "2022-08-27T17:19:24.106929Z",
     "iopub.status.busy": "2022-08-27T17:19:24.106120Z",
     "iopub.status.idle": "2022-08-27T17:19:24.221274Z",
     "shell.execute_reply": "2022-08-27T17:19:24.220222Z"
    },
    "papermill": {
     "duration": 0.152876,
     "end_time": "2022-08-27T17:19:24.221437",
     "exception": false,
     "start_time": "2022-08-27T17:19:24.068561",
     "status": "completed"
    },
    "tags": []
   },
   "outputs": [],
   "source": [
    "mean_px =trainX.mean().astype(np.float32)\n",
    "std_px = trainX.std().astype(np.float32)\n",
    "\n",
    "def standardize(x): \n",
    "    return (x-mean_px)/std_px\n",
    "#def standardize(x): \n",
    "   # return (x)/255.0"
   ]
  },
  {
   "cell_type": "code",
   "execution_count": 15,
   "metadata": {
    "execution": {
     "iopub.execute_input": "2022-08-27T17:19:24.293101Z",
     "iopub.status.busy": "2022-08-27T17:19:24.292387Z",
     "iopub.status.idle": "2022-08-27T17:19:24.296629Z",
     "shell.execute_reply": "2022-08-27T17:19:24.295959Z"
    },
    "papermill": {
     "duration": 0.041196,
     "end_time": "2022-08-27T17:19:24.296767",
     "exception": false,
     "start_time": "2022-08-27T17:19:24.255571",
     "status": "completed"
    },
    "tags": []
   },
   "outputs": [
    {
     "data": {
      "text/plain": [
       "array([[0., 1., 0., ..., 0., 0., 0.],\n",
       "       [1., 0., 0., ..., 0., 0., 0.],\n",
       "       [0., 1., 0., ..., 0., 0., 0.],\n",
       "       ...,\n",
       "       [0., 0., 0., ..., 1., 0., 0.],\n",
       "       [0., 0., 0., ..., 0., 0., 0.],\n",
       "       [0., 0., 0., ..., 0., 0., 1.]], dtype=float32)"
      ]
     },
     "execution_count": 15,
     "metadata": {},
     "output_type": "execute_result"
    }
   ],
   "source": [
    "trainY"
   ]
  },
  {
   "cell_type": "markdown",
   "metadata": {
    "papermill": {
     "duration": 0.032612,
     "end_time": "2022-08-27T17:19:24.361738",
     "exception": false,
     "start_time": "2022-08-27T17:19:24.329126",
     "status": "completed"
    },
    "tags": []
   },
   "source": [
    "# Spliting datasets into validation and training"
   ]
  },
  {
   "cell_type": "code",
   "execution_count": 16,
   "metadata": {
    "execution": {
     "iopub.execute_input": "2022-08-27T17:19:24.433643Z",
     "iopub.status.busy": "2022-08-27T17:19:24.432900Z",
     "iopub.status.idle": "2022-08-27T17:19:24.799186Z",
     "shell.execute_reply": "2022-08-27T17:19:24.798588Z"
    },
    "papermill": {
     "duration": 0.406006,
     "end_time": "2022-08-27T17:19:24.799313",
     "exception": false,
     "start_time": "2022-08-27T17:19:24.393307",
     "status": "completed"
    },
    "tags": []
   },
   "outputs": [],
   "source": [
    "trainX, valX, trainY, valY = train_test_split(trainX, trainY, test_size=0.10, random_state=42)"
   ]
  },
  {
   "cell_type": "code",
   "execution_count": 17,
   "metadata": {
    "execution": {
     "iopub.execute_input": "2022-08-27T17:19:24.872733Z",
     "iopub.status.busy": "2022-08-27T17:19:24.871862Z",
     "iopub.status.idle": "2022-08-27T17:19:24.875186Z",
     "shell.execute_reply": "2022-08-27T17:19:24.875706Z"
    },
    "papermill": {
     "duration": 0.043153,
     "end_time": "2022-08-27T17:19:24.875882",
     "exception": false,
     "start_time": "2022-08-27T17:19:24.832729",
     "status": "completed"
    },
    "tags": []
   },
   "outputs": [
    {
     "name": "stdout",
     "output_type": "stream",
     "text": [
      "train X shape:  (37800, 28, 28, 1)\n",
      "train Y shape:  (37800, 10)\n",
      "validation X shape:  (4200, 28, 28, 1)\n",
      "validation y shape:  (4200, 10)\n"
     ]
    }
   ],
   "source": [
    "print(\"train X shape: \", trainX.shape)\n",
    "print(\"train Y shape: \", trainY.shape)\n",
    "print(\"validation X shape: \", valX.shape)\n",
    "print(\"validation y shape: \", valY.shape)"
   ]
  },
  {
   "cell_type": "code",
   "execution_count": 18,
   "metadata": {
    "execution": {
     "iopub.execute_input": "2022-08-27T17:19:24.950879Z",
     "iopub.status.busy": "2022-08-27T17:19:24.950025Z",
     "iopub.status.idle": "2022-08-27T17:19:24.952930Z",
     "shell.execute_reply": "2022-08-27T17:19:24.953432Z"
    },
    "papermill": {
     "duration": 0.043856,
     "end_time": "2022-08-27T17:19:24.953620",
     "exception": false,
     "start_time": "2022-08-27T17:19:24.909764",
     "status": "completed"
    },
    "tags": []
   },
   "outputs": [],
   "source": [
    "gen = image.ImageDataGenerator()\n",
    "batches = gen.flow(trainX,trainY, batch_size=64)\n",
    "val_batches=gen.flow(valX, valY, batch_size=64)"
   ]
  },
  {
   "cell_type": "markdown",
   "metadata": {
    "papermill": {
     "duration": 0.034126,
     "end_time": "2022-08-27T17:19:25.021213",
     "exception": false,
     "start_time": "2022-08-27T17:19:24.987087",
     "status": "completed"
    },
    "tags": []
   },
   "source": [
    "<h1>Describing Variables for our model </h1>"
   ]
  },
  {
   "cell_type": "code",
   "execution_count": 19,
   "metadata": {
    "execution": {
     "iopub.execute_input": "2022-08-27T17:19:25.095704Z",
     "iopub.status.busy": "2022-08-27T17:19:25.094800Z",
     "iopub.status.idle": "2022-08-27T17:19:25.098079Z",
     "shell.execute_reply": "2022-08-27T17:19:25.097380Z"
    },
    "papermill": {
     "duration": 0.042524,
     "end_time": "2022-08-27T17:19:25.098215",
     "exception": false,
     "start_time": "2022-08-27T17:19:25.055691",
     "status": "completed"
    },
    "tags": []
   },
   "outputs": [],
   "source": [
    "input_num_units = 784\n",
    "hidden1_num_units =500\n",
    "hidden2_num_units = 500\n",
    "hidden3_num_units =500\n",
    "#hidden4_num_units = 500\n",
    "hidden5_num_units =500\n",
    "output_num_units = 10\n",
    "\n",
    "epochs =10\n",
    "batch_size = 128"
   ]
  },
  {
   "cell_type": "markdown",
   "metadata": {
    "papermill": {
     "duration": 0.032114,
     "end_time": "2022-08-27T17:19:25.163708",
     "exception": false,
     "start_time": "2022-08-27T17:19:25.131594",
     "status": "completed"
    },
    "tags": []
   },
   "source": [
    "# Model (Naive)"
   ]
  },
  {
   "cell_type": "code",
   "execution_count": 20,
   "metadata": {
    "execution": {
     "iopub.execute_input": "2022-08-27T17:19:25.237789Z",
     "iopub.status.busy": "2022-08-27T17:19:25.236900Z",
     "iopub.status.idle": "2022-08-27T17:19:25.380857Z",
     "shell.execute_reply": "2022-08-27T17:19:25.379785Z"
    },
    "papermill": {
     "duration": 0.184811,
     "end_time": "2022-08-27T17:19:25.381011",
     "exception": false,
     "start_time": "2022-08-27T17:19:25.196200",
     "status": "completed"
    },
    "tags": []
   },
   "outputs": [],
   "source": [
    "model = Sequential([Lambda(standardize,input_shape=(28,28,1)),\n",
    "                    Flatten(),\n",
    "                    Dense(units=hidden1_num_units,input_dim = input_num_units, activation = 'relu'),\n",
    "                   Dense(units=hidden2_num_units,input_dim = hidden1_num_units, activation = 'relu'),\n",
    "                   Dense(units=hidden3_num_units,input_dim = hidden2_num_units, activation = 'relu'),\n",
    "                   Dense(units=hidden5_num_units,input_dim = hidden3_num_units, activation = 'relu'),\n",
    "                   Dense(units=output_num_units,input_dim = hidden5_num_units, activation = 'softmax')])\n"
   ]
  },
  {
   "cell_type": "code",
   "execution_count": 21,
   "metadata": {
    "execution": {
     "iopub.execute_input": "2022-08-27T17:19:25.451694Z",
     "iopub.status.busy": "2022-08-27T17:19:25.450706Z",
     "iopub.status.idle": "2022-08-27T17:19:25.458175Z",
     "shell.execute_reply": "2022-08-27T17:19:25.457623Z"
    },
    "papermill": {
     "duration": 0.043538,
     "end_time": "2022-08-27T17:19:25.458294",
     "exception": false,
     "start_time": "2022-08-27T17:19:25.414756",
     "status": "completed"
    },
    "tags": []
   },
   "outputs": [
    {
     "name": "stdout",
     "output_type": "stream",
     "text": [
      "input shape  (None, 28, 28, 1)\n",
      "output shape  (None, 10)\n"
     ]
    }
   ],
   "source": [
    "print(\"input shape \",model.input_shape)\n",
    "print(\"output shape \",model.output_shape)"
   ]
  },
  {
   "cell_type": "code",
   "execution_count": 22,
   "metadata": {
    "execution": {
     "iopub.execute_input": "2022-08-27T17:19:25.530292Z",
     "iopub.status.busy": "2022-08-27T17:19:25.529261Z",
     "iopub.status.idle": "2022-08-27T17:19:25.545367Z",
     "shell.execute_reply": "2022-08-27T17:19:25.544760Z"
    },
    "papermill": {
     "duration": 0.053475,
     "end_time": "2022-08-27T17:19:25.545514",
     "exception": false,
     "start_time": "2022-08-27T17:19:25.492039",
     "status": "completed"
    },
    "tags": []
   },
   "outputs": [],
   "source": [
    "adam =  keras.optimizers.Adam(lr=0.01)\n",
    "model.compile(loss='categorical_crossentropy',optimizer=adam,metrics=['accuracy'])"
   ]
  },
  {
   "cell_type": "code",
   "execution_count": 23,
   "metadata": {
    "execution": {
     "iopub.execute_input": "2022-08-27T17:19:25.621027Z",
     "iopub.status.busy": "2022-08-27T17:19:25.620335Z",
     "iopub.status.idle": "2022-08-27T17:20:27.237275Z",
     "shell.execute_reply": "2022-08-27T17:20:27.236744Z"
    },
    "papermill": {
     "duration": 61.657646,
     "end_time": "2022-08-27T17:20:27.237431",
     "exception": false,
     "start_time": "2022-08-27T17:19:25.579785",
     "status": "completed"
    },
    "tags": []
   },
   "outputs": [
    {
     "name": "stdout",
     "output_type": "stream",
     "text": [
      "Epoch 1/10\n",
      "591/591 [==============================] - 6s 11ms/step - loss: 0.5660 - accuracy: 0.8669 - val_loss: 0.2888 - val_accuracy: 0.9188\n",
      "Epoch 2/10\n",
      "591/591 [==============================] - 6s 10ms/step - loss: 0.3227 - accuracy: 0.9195 - val_loss: 0.3149 - val_accuracy: 0.9217\n",
      "Epoch 3/10\n",
      "591/591 [==============================] - 6s 10ms/step - loss: 0.2730 - accuracy: 0.9311 - val_loss: 0.3655 - val_accuracy: 0.9221\n",
      "Epoch 4/10\n",
      "591/591 [==============================] - 6s 10ms/step - loss: 0.2855 - accuracy: 0.9296 - val_loss: 0.2597 - val_accuracy: 0.9340\n",
      "Epoch 5/10\n",
      "591/591 [==============================] - 6s 10ms/step - loss: 0.2309 - accuracy: 0.9415 - val_loss: 0.2324 - val_accuracy: 0.9357\n",
      "Epoch 6/10\n",
      "591/591 [==============================] - 6s 10ms/step - loss: 0.2075 - accuracy: 0.9486 - val_loss: 0.2856 - val_accuracy: 0.9357\n",
      "Epoch 7/10\n",
      "591/591 [==============================] - 6s 10ms/step - loss: 0.2477 - accuracy: 0.9395 - val_loss: 0.4250 - val_accuracy: 0.9040\n",
      "Epoch 8/10\n",
      "591/591 [==============================] - 6s 10ms/step - loss: 0.2368 - accuracy: 0.9449 - val_loss: 0.2889 - val_accuracy: 0.9312\n",
      "Epoch 9/10\n",
      "591/591 [==============================] - 6s 10ms/step - loss: 0.2086 - accuracy: 0.9495 - val_loss: 0.2428 - val_accuracy: 0.9402\n",
      "Epoch 10/10\n",
      "591/591 [==============================] - 6s 10ms/step - loss: 0.2101 - accuracy: 0.9499 - val_loss: 0.3348 - val_accuracy: 0.9393\n"
     ]
    }
   ],
   "source": [
    "trained_model = model.fit_generator(generator=batches, epochs= epochs,validation_data=val_batches,)"
   ]
  },
  {
   "cell_type": "code",
   "execution_count": 24,
   "metadata": {
    "execution": {
     "iopub.execute_input": "2022-08-27T17:20:27.954095Z",
     "iopub.status.busy": "2022-08-27T17:20:27.953357Z",
     "iopub.status.idle": "2022-08-27T17:20:27.958524Z",
     "shell.execute_reply": "2022-08-27T17:20:27.959079Z"
    },
    "papermill": {
     "duration": 0.365946,
     "end_time": "2022-08-27T17:20:27.959330",
     "exception": false,
     "start_time": "2022-08-27T17:20:27.593384",
     "status": "completed"
    },
    "tags": []
   },
   "outputs": [
    {
     "data": {
      "text/plain": [
       "dict_keys(['loss', 'accuracy', 'val_loss', 'val_accuracy'])"
      ]
     },
     "execution_count": 24,
     "metadata": {},
     "output_type": "execute_result"
    }
   ],
   "source": [
    "history_dict = trained_model.history\n",
    "history_dict.keys() "
   ]
  },
  {
   "cell_type": "markdown",
   "metadata": {
    "papermill": {
     "duration": 0.348461,
     "end_time": "2022-08-27T17:20:28.665578",
     "exception": false,
     "start_time": "2022-08-27T17:20:28.317117",
     "status": "completed"
    },
    "tags": []
   },
   "source": [
    "# Visualisation through Graphs"
   ]
  },
  {
   "cell_type": "code",
   "execution_count": 25,
   "metadata": {
    "execution": {
     "iopub.execute_input": "2022-08-27T17:20:29.396783Z",
     "iopub.status.busy": "2022-08-27T17:20:29.396081Z",
     "iopub.status.idle": "2022-08-27T17:20:29.592149Z",
     "shell.execute_reply": "2022-08-27T17:20:29.592787Z"
    },
    "papermill": {
     "duration": 0.567337,
     "end_time": "2022-08-27T17:20:29.592944",
     "exception": false,
     "start_time": "2022-08-27T17:20:29.025607",
     "status": "completed"
    },
    "tags": []
   },
   "outputs": [
    {
     "data": {
      "image/png": "[encoded data removed]",
      "text/plain": [
       "<Figure size 432x288 with 1 Axes>"
      ]
     },
     "metadata": {
      "needs_background": "light"
     },
     "output_type": "display_data"
    }
   ],
   "source": [
    "import matplotlib.pyplot as plt\n",
    "%matplotlib inline\n",
    "loss_values = history_dict['loss']\n",
    "val_loss_values = history_dict['val_loss']\n",
    "epochs = range(1, len(loss_values) + 1)\n",
    "\n",
    "# \"bo\" is for \"blue dot\"\n",
    "plt.plot(epochs, loss_values, 'bo')\n",
    "# b+ is for \"blue crosses\"\n",
    "plt.plot(epochs, val_loss_values, 'b+')\n",
    "plt.xlabel('Epochs')\n",
    "plt.ylabel('Loss')\n",
    "\n",
    "plt.show()"
   ]
  },
  {
   "cell_type": "code",
   "execution_count": 26,
   "metadata": {
    "execution": {
     "iopub.execute_input": "2022-08-27T17:20:30.358824Z",
     "iopub.status.busy": "2022-08-27T17:20:30.358133Z",
     "iopub.status.idle": "2022-08-27T17:20:30.492903Z",
     "shell.execute_reply": "2022-08-27T17:20:30.493449Z"
    },
    "papermill": {
     "duration": 0.545212,
     "end_time": "2022-08-27T17:20:30.493632",
     "exception": false,
     "start_time": "2022-08-27T17:20:29.948420",
     "status": "completed"
    },
    "tags": []
   },
   "outputs": [
    {
     "data": {
      "text/plain": [
       "Text(0, 0.5, 'Accuracy')"
      ]
     },
     "execution_count": 26,
     "metadata": {},
     "output_type": "execute_result"
    },
    {
     "data": {
      "image/png": "[encoded data removed]",
      "text/plain": [
       "<Figure size 432x288 with 1 Axes>"
      ]
     },
     "metadata": {
      "needs_background": "light"
     },
     "output_type": "display_data"
    }
   ],
   "source": [
    "plt.clf()   # clear figure\n",
    "acc_values = history_dict['accuracy']\n",
    "val_acc_values = history_dict['val_accuracy']\n",
    "\n",
    "plt.plot(epochs, acc_values, 'bo')\n",
    "plt.plot(epochs, val_acc_values, 'b+')\n",
    "plt.xlabel('Epochs')\n",
    "plt.ylabel('Accuracy')\n"
   ]
  },
  {
   "cell_type": "markdown",
   "metadata": {
    "papermill": {
     "duration": 0.356212,
     "end_time": "2022-08-27T17:20:31.224461",
     "exception": false,
     "start_time": "2022-08-27T17:20:30.868249",
     "status": "completed"
    },
    "tags": []
   },
   "source": [
    "# Model (LeNET modified)"
   ]
  },
  {
   "cell_type": "markdown",
   "metadata": {
    "papermill": {
     "duration": 0.350413,
     "end_time": "2022-08-27T17:20:31.929858",
     "exception": false,
     "start_time": "2022-08-27T17:20:31.579445",
     "status": "completed"
    },
    "tags": []
   },
   "source": [
    "The model is just like LeNET but instead of average , we use maxpooling."
   ]
  },
  {
   "cell_type": "code",
   "execution_count": 27,
   "metadata": {
    "execution": {
     "iopub.execute_input": "2022-08-27T17:20:32.641988Z",
     "iopub.status.busy": "2022-08-27T17:20:32.641251Z",
     "iopub.status.idle": "2022-08-27T17:20:32.649274Z",
     "shell.execute_reply": "2022-08-27T17:20:32.649857Z"
    },
    "papermill": {
     "duration": 0.363746,
     "end_time": "2022-08-27T17:20:32.650016",
     "exception": false,
     "start_time": "2022-08-27T17:20:32.286270",
     "status": "completed"
    },
    "tags": []
   },
   "outputs": [],
   "source": [
    "def get_LeNET_model():\n",
    "    model = Sequential([\n",
    "        Lambda(standardize, input_shape=(28,28,1)),\n",
    "        Convolution2D(6,(5,5), activation='relu'),\n",
    "        MaxPooling2D(),\n",
    "        Convolution2D(16,(5,5), activation='relu'),\n",
    "        MaxPooling2D(),\n",
    "        Flatten(),\n",
    "        Dense(120, activation='relu'),\n",
    "        Dense(84, activation='relu'),\n",
    "        Dense(10, activation='softmax')\n",
    "        ])\n",
    "    \n",
    "    adam =  keras.optimizers.Adam(lr=0.01)\n",
    "    model.compile(loss='categorical_crossentropy',optimizer=adam,metrics=['accuracy'])\n",
    "    return model\n"
   ]
  },
  {
   "cell_type": "code",
   "execution_count": 28,
   "metadata": {
    "execution": {
     "iopub.execute_input": "2022-08-27T17:20:33.362738Z",
     "iopub.status.busy": "2022-08-27T17:20:33.362058Z",
     "iopub.status.idle": "2022-08-27T17:20:33.432187Z",
     "shell.execute_reply": "2022-08-27T17:20:33.431456Z"
    },
    "papermill": {
     "duration": 0.426059,
     "end_time": "2022-08-27T17:20:33.432313",
     "exception": false,
     "start_time": "2022-08-27T17:20:33.006254",
     "status": "completed"
    },
    "tags": []
   },
   "outputs": [],
   "source": [
    "model= get_LeNET_model()\n"
   ]
  },
  {
   "cell_type": "code",
   "execution_count": 29,
   "metadata": {
    "execution": {
     "iopub.execute_input": "2022-08-27T17:20:34.156075Z",
     "iopub.status.busy": "2022-08-27T17:20:34.155338Z",
     "iopub.status.idle": "2022-08-27T17:22:01.887001Z",
     "shell.execute_reply": "2022-08-27T17:22:01.887936Z"
    },
    "papermill": {
     "duration": 88.089595,
     "end_time": "2022-08-27T17:22:01.888114",
     "exception": false,
     "start_time": "2022-08-27T17:20:33.798519",
     "status": "completed"
    },
    "tags": []
   },
   "outputs": [
    {
     "name": "stdout",
     "output_type": "stream",
     "text": [
      "Epoch 1/10\n",
      "591/591 [==============================] - 9s 15ms/step - loss: 0.2101 - accuracy: 0.9349 - val_loss: 0.1111 - val_accuracy: 0.9660\n",
      "Epoch 2/10\n",
      "591/591 [==============================] - 8s 14ms/step - loss: 0.1132 - accuracy: 0.9684 - val_loss: 0.1430 - val_accuracy: 0.9636\n",
      "Epoch 3/10\n",
      "591/591 [==============================] - 8s 14ms/step - loss: 0.1011 - accuracy: 0.9715 - val_loss: 0.0933 - val_accuracy: 0.9738\n",
      "Epoch 4/10\n",
      "591/591 [==============================] - 9s 15ms/step - loss: 0.0961 - accuracy: 0.9753 - val_loss: 0.1522 - val_accuracy: 0.9633\n",
      "Epoch 5/10\n",
      "591/591 [==============================] - 9s 15ms/step - loss: 0.1117 - accuracy: 0.9718 - val_loss: 0.1347 - val_accuracy: 0.9674\n",
      "Epoch 6/10\n",
      "591/591 [==============================] - 9s 15ms/step - loss: 0.0881 - accuracy: 0.9772 - val_loss: 0.1035 - val_accuracy: 0.9764\n",
      "Epoch 7/10\n",
      "591/591 [==============================] - 9s 15ms/step - loss: 0.0753 - accuracy: 0.9816 - val_loss: 0.1132 - val_accuracy: 0.9712\n",
      "Epoch 8/10\n",
      "591/591 [==============================] - 9s 15ms/step - loss: 0.1025 - accuracy: 0.9755 - val_loss: 0.1414 - val_accuracy: 0.9702\n",
      "Epoch 9/10\n",
      "591/591 [==============================] - 9s 15ms/step - loss: 0.0871 - accuracy: 0.9799 - val_loss: 0.1325 - val_accuracy: 0.9717\n",
      "Epoch 10/10\n",
      "591/591 [==============================] - 9s 15ms/step - loss: 0.0785 - accuracy: 0.9808 - val_loss: 0.1141 - val_accuracy: 0.9738\n"
     ]
    }
   ],
   "source": [
    "history=model.fit_generator(generator=batches,  epochs=10, \n",
    "                    validation_data=val_batches)"
   ]
  },
  {
   "cell_type": "markdown",
   "metadata": {
    "papermill": {
     "duration": 0.826978,
     "end_time": "2022-08-27T17:22:03.547891",
     "exception": false,
     "start_time": "2022-08-27T17:22:02.720913",
     "status": "completed"
    },
    "tags": []
   },
   "source": [
    "# Data Augumentation"
   ]
  },
  {
   "cell_type": "markdown",
   "metadata": {
    "papermill": {
     "duration": 0.834505,
     "end_time": "2022-08-27T17:22:05.198242",
     "exception": false,
     "start_time": "2022-08-27T17:22:04.363737",
     "status": "completed"
    },
    "tags": []
   },
   "source": [
    "<p>It is tehnique of showing slighly different or new images to neural network to avoid overfitting. And to achieve better generalization. In case you have very small dataset, you can use different kinds of data augmentation techniques to increase your data size. Neural networks perform better if you provide them more data.</p><br>\n",
    "\n",
    "Different data aumentation techniques are as follows:<br>\n",
    "\n",
    "Cropping<br>\n",
    "Rotating<br>\n",
    "Scaling<br>\n",
    "Translating<br>\n",
    "Flipping<br>\n",
    "Adding Gaussian noise to input images etc."
   ]
  },
  {
   "cell_type": "code",
   "execution_count": 30,
   "metadata": {
    "execution": {
     "iopub.execute_input": "2022-08-27T17:22:06.888231Z",
     "iopub.status.busy": "2022-08-27T17:22:06.887206Z",
     "iopub.status.idle": "2022-08-27T17:22:06.889598Z",
     "shell.execute_reply": "2022-08-27T17:22:06.890230Z"
    },
    "papermill": {
     "duration": 0.826874,
     "end_time": "2022-08-27T17:22:06.890386",
     "exception": false,
     "start_time": "2022-08-27T17:22:06.063512",
     "status": "completed"
    },
    "tags": []
   },
   "outputs": [],
   "source": [
    "gen =image.ImageDataGenerator(rotation_range=8, width_shift_range=0.08, shear_range=0.3,\n",
    "                               height_shift_range=0.08, zoom_range=0.08)\n",
    "batches = gen.flow(trainX, trainY, batch_size=64)\n",
    "val_batches = gen.flow(valX, valY, batch_size=64)"
   ]
  },
  {
   "cell_type": "code",
   "execution_count": 31,
   "metadata": {
    "execution": {
     "iopub.execute_input": "2022-08-27T17:22:08.532459Z",
     "iopub.status.busy": "2022-08-27T17:22:08.531445Z",
     "iopub.status.idle": "2022-08-27T17:24:51.194286Z",
     "shell.execute_reply": "2022-08-27T17:24:51.193707Z"
    },
    "papermill": {
     "duration": 163.48311,
     "end_time": "2022-08-27T17:24:51.194438",
     "exception": false,
     "start_time": "2022-08-27T17:22:07.711328",
     "status": "completed"
    },
    "tags": []
   },
   "outputs": [
    {
     "name": "stdout",
     "output_type": "stream",
     "text": [
      "Epoch 1/10\n",
      "591/591 [==============================] - 16s 28ms/step - loss: 0.2478 - accuracy: 0.9397 - val_loss: 0.2667 - val_accuracy: 0.9324\n",
      "Epoch 2/10\n",
      "591/591 [==============================] - 17s 28ms/step - loss: 0.1755 - accuracy: 0.9575 - val_loss: 0.1767 - val_accuracy: 0.9524\n",
      "Epoch 3/10\n",
      "591/591 [==============================] - 16s 27ms/step - loss: 0.1676 - accuracy: 0.9593 - val_loss: 0.1580 - val_accuracy: 0.9636\n",
      "Epoch 4/10\n",
      "591/591 [==============================] - 16s 28ms/step - loss: 0.1492 - accuracy: 0.9633 - val_loss: 0.2035 - val_accuracy: 0.9517\n",
      "Epoch 5/10\n",
      "591/591 [==============================] - 16s 27ms/step - loss: 0.1544 - accuracy: 0.9636 - val_loss: 0.2094 - val_accuracy: 0.9500\n",
      "Epoch 6/10\n",
      "591/591 [==============================] - 16s 27ms/step - loss: 0.1391 - accuracy: 0.9661 - val_loss: 0.1922 - val_accuracy: 0.9595\n",
      "Epoch 7/10\n",
      "591/591 [==============================] - 16s 27ms/step - loss: 0.1344 - accuracy: 0.9684 - val_loss: 0.1317 - val_accuracy: 0.9695\n",
      "Epoch 8/10\n",
      "591/591 [==============================] - 16s 28ms/step - loss: 0.1414 - accuracy: 0.9678 - val_loss: 0.1636 - val_accuracy: 0.9612\n",
      "Epoch 9/10\n",
      "591/591 [==============================] - 16s 27ms/step - loss: 0.1392 - accuracy: 0.9669 - val_loss: 0.1857 - val_accuracy: 0.9619\n",
      "Epoch 10/10\n",
      "591/591 [==============================] - 16s 28ms/step - loss: 0.1341 - accuracy: 0.9698 - val_loss: 0.1376 - val_accuracy: 0.9705\n"
     ]
    }
   ],
   "source": [
    "model.optimizer.lr=0.01\n",
    "history=model.fit_generator(generator=batches,  epochs=10, \n",
    "                    validation_data=val_batches, )"
   ]
  },
  {
   "cell_type": "code",
   "execution_count": 32,
   "metadata": {
    "execution": {
     "iopub.execute_input": "2022-08-27T17:24:54.329348Z",
     "iopub.status.busy": "2022-08-27T17:24:54.328313Z",
     "iopub.status.idle": "2022-08-27T17:25:35.640705Z",
     "shell.execute_reply": "2022-08-27T17:25:35.641657Z"
    },
    "papermill": {
     "duration": 42.896822,
     "end_time": "2022-08-27T17:25:35.641839",
     "exception": false,
     "start_time": "2022-08-27T17:24:52.745017",
     "status": "completed"
    },
    "tags": []
   },
   "outputs": [
    {
     "name": "stdout",
     "output_type": "stream",
     "text": [
      "Epoch 1/5\n",
      "591/591 [==============================] - 8s 14ms/step - loss: 0.0752 - accuracy: 0.9836\n",
      "Epoch 2/5\n",
      "591/591 [==============================] - 8s 14ms/step - loss: 0.0703 - accuracy: 0.9851\n",
      "Epoch 3/5\n",
      "591/591 [==============================] - 8s 14ms/step - loss: 0.0636 - accuracy: 0.9858\n",
      "Epoch 4/5\n",
      "591/591 [==============================] - 8s 14ms/step - loss: 0.0819 - accuracy: 0.9837\n",
      "Epoch 5/5\n",
      "591/591 [==============================] - 8s 13ms/step - loss: 0.0836 - accuracy: 0.9832\n"
     ]
    }
   ],
   "source": [
    "model.optimizer.lr=0.01\n",
    "gen = image.ImageDataGenerator()\n",
    "batches = gen.flow(trainX, trainY, batch_size=64)\n",
    "history=model.fit_generator(generator=batches , epochs=5)"
   ]
  },
  {
   "cell_type": "markdown",
   "metadata": {
    "papermill": {
     "duration": 1.811991,
     "end_time": "2022-08-27T17:25:39.240955",
     "exception": false,
     "start_time": "2022-08-27T17:25:37.428964",
     "status": "completed"
    },
    "tags": []
   },
   "source": [
    "# Submitting Predictions"
   ]
  },
  {
   "cell_type": "code",
   "execution_count": 33,
   "metadata": {
    "execution": {
     "iopub.execute_input": "2022-08-27T17:25:42.818419Z",
     "iopub.status.busy": "2022-08-27T17:25:42.817199Z",
     "iopub.status.idle": "2022-08-27T17:25:46.298889Z",
     "shell.execute_reply": "2022-08-27T17:25:46.298155Z"
    },
    "papermill": {
     "duration": 5.291711,
     "end_time": "2022-08-27T17:25:46.299023",
     "exception": false,
     "start_time": "2022-08-27T17:25:41.007312",
     "status": "completed"
    },
    "tags": []
   },
   "outputs": [],
   "source": [
    "predictions = model.predict_classes(testX, verbose=0)\n",
    "\n",
    "submissions=pd.DataFrame({\"ImageId\": list(range(1,len(predictions)+1)),\n",
    "                         \"Label\": predictions})\n",
    "submissions.to_csv(\"WOr.csv\", index=False, header=True)"
   ]
  },
  {
   "cell_type": "markdown",
   "metadata": {
    "papermill": {
     "duration": 1.802544,
     "end_time": "2022-08-27T17:25:49.886767",
     "exception": false,
     "start_time": "2022-08-27T17:25:48.084223",
     "status": "completed"
    },
    "tags": []
   },
   "source": [
    "# If this notebook helps you then Please upvote it."
   ]
  },
  {
   "cell_type": "code",
   "execution_count": null,
   "metadata": {
    "papermill": {
     "duration": 1.822912,
     "end_time": "2022-08-27T17:25:53.554037",
     "exception": false,
     "start_time": "2022-08-27T17:25:51.731125",
     "status": "completed"
    },
    "tags": []
   },
   "outputs": [],
   "source": []
  }
 ],
 "metadata": {
  "kernelspec": {
   "display_name": "Python 3",
   "language": "python",
   "name": "python3"
  },
  "language_info": {
   "codemirror_mode": {
    "name": "ipython",
    "version": 3
   },
   "file_extension": ".py",
   "mimetype": "text/x-python",
   "name": "python",
   "nbconvert_exporter": "python",
   "pygments_lexer": "ipython3",
   "version": "3.7.6"
  },
  "papermill": {
   "duration": 410.451714,
   "end_time": "2022-08-27T17:25:55.422420",
   "environment_variables": {},
   "exception": null,
   "input_path": "__notebook__.ipynb",
   "output_path": "__notebook__.ipynb",
   "parameters": {},
   "start_time": "2022-08-27T17:19:04.970706",
   "version": "2.1.0"
  }
 },
 "nbformat": 4,
 "nbformat_minor": 4
}
